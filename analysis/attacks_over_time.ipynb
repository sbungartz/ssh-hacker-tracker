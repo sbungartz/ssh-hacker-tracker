{
 "cells": [
  {
   "cell_type": "code",
   "execution_count": null,
   "metadata": {
    "collapsed": false
   },
   "outputs": [],
   "source": [
    "import pandas as pd\n",
    "import numpy as np\n",
    "import seaborn as sns # import for plot styles\n",
    "import matplotlib.pyplot as plt\n",
    "%matplotlib inline\n",
    "\n",
    "import authlog"
   ]
  },
  {
   "cell_type": "markdown",
   "metadata": {},
   "source": [
    "First, we load all logs we can find, filter to get sshd and search for some logs containing failed login attempts with the respective user name tried.\n",
    "We also look for disconnect messages that show the IP address from where the attack came."
   ]
  },
  {
   "cell_type": "code",
   "execution_count": null,
   "metadata": {
    "collapsed": false
   },
   "outputs": [],
   "source": [
    "import config"
   ]
  },
  {
   "cell_type": "code",
   "execution_count": null,
   "metadata": {
    "collapsed": false
   },
   "outputs": [],
   "source": [
    "df = authlog.load_all_logs(config.dataDirLogs)\n",
    "df = df[df.program == 'sshd']\n",
    "probedUsers = authlog.extract_probed_users(df)\n",
    "failedPasswordUsers = authlog.extract_failed_password_users(df)\n",
    "df['probed user'] = probedUsers.combine_first(failedPasswordUsers)\n",
    "df['disconnect ip'] = authlog.extract_disconnect_ip(df)"
   ]
  },
  {
   "cell_type": "code",
   "execution_count": null,
   "metadata": {
    "collapsed": false,
    "scrolled": true
   },
   "outputs": [],
   "source": [
    "df"
   ]
  },
  {
   "cell_type": "markdown",
   "metadata": {},
   "source": [
    "As you can see in the table (if you have matching attacks in your logs), we now have some user name attempts and corresponding IP addresses.\n",
    "They are on different lines, however they have the same *action* number.\n",
    "We will now join these attack attempts on themselves to get probed user name and origin ip address.\n",
    "Since the action number repeats after a while, we must eliminate entries where both dates are too far apart."
   ]
  },
  {
   "cell_type": "code",
   "execution_count": null,
   "metadata": {
    "collapsed": false
   },
   "outputs": [],
   "source": [
    "merged = pd.merge(\n",
    "    df[['date', 'action', 'probed user']].dropna(),\n",
    "    df[['date', 'action', 'disconnect ip']],\n",
    "    on='action').dropna()\n",
    "merged['tdiff'] = merged.date_y - merged.date_x\n",
    "merged = merged[abs(merged.tdiff) < pd.to_timedelta('1 min')][['date_x', 'probed user', 'disconnect ip']]\n",
    "merged.columns = ['date', 'probed user', 'ip']\n",
    "merged = merged.set_index('date').sort_index()"
   ]
  },
  {
   "cell_type": "code",
   "execution_count": null,
   "metadata": {
    "collapsed": false
   },
   "outputs": [],
   "source": [
    "merged"
   ]
  },
  {
   "cell_type": "code",
   "execution_count": null,
   "metadata": {
    "collapsed": false
   },
   "outputs": [],
   "source": [
    "merged.ip.resample('5min').agg({'attempts': 'count', 'unique ips': lambda s: len(s.unique())}).plot(figsize=[11,6])"
   ]
  },
  {
   "cell_type": "code",
   "execution_count": null,
   "metadata": {
    "collapsed": false,
    "scrolled": true
   },
   "outputs": [],
   "source": [
    "merged.ip.value_counts()"
   ]
  },
  {
   "cell_type": "code",
   "execution_count": null,
   "metadata": {
    "collapsed": false
   },
   "outputs": [],
   "source": [
    "frequentIps = merged.ip.value_counts()[lambda x: x >= 0].index"
   ]
  },
  {
   "cell_type": "code",
   "execution_count": null,
   "metadata": {
    "collapsed": false,
    "scrolled": true
   },
   "outputs": [],
   "source": [
    "df2 = merged[['ip']][merged.ip.isin(frequentIps)].reset_index()\n",
    "df2.ip = df2.ip.astype('category')\n",
    "df2['dummy'] = 0\n",
    "df2\n"
   ]
  },
  {
   "cell_type": "code",
   "execution_count": null,
   "metadata": {
    "collapsed": false
   },
   "outputs": [],
   "source": [
    "plt.figure(figsize=(8,14))\n",
    "sns.stripplot(data=df2, x='date', y='ip', order=frequentIps, size=3, palette='deep')\n",
    "plt.gcf().autofmt_xdate()\n",
    "plt.xlim(df2.date.min(), df2.date.max())"
   ]
  },
  {
   "cell_type": "code",
   "execution_count": null,
   "metadata": {
    "collapsed": true
   },
   "outputs": [],
   "source": []
  }
 ],
 "metadata": {
  "kernelspec": {
   "display_name": "Python 2",
   "language": "python",
   "name": "python2"
  },
  "language_info": {
   "codemirror_mode": {
    "name": "ipython",
    "version": 2
   },
   "file_extension": ".py",
   "mimetype": "text/x-python",
   "name": "python",
   "nbconvert_exporter": "python",
   "pygments_lexer": "ipython2",
   "version": "2.7.6"
  }
 },
 "nbformat": 4,
 "nbformat_minor": 2
}